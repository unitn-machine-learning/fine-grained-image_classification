{
 "cells": [
  {
   "cell_type": "code",
   "execution_count": 1,
   "metadata": {},
   "outputs": [],
   "source": [
    "import torch\n",
    "from torch.utils.data import DataLoader\n",
    "import os\n",
    "from tqdm import tqdm\n",
    "\n",
    "from networks.model import MainNet\n",
    "from datasets.dataset import CompetitionDataset\n",
    "import warnings\n",
    "warnings.filterwarnings('ignore')\n",
    "from config import proposalN, num_classes, channels\n",
    "from utils.second_eval import eval\n"
   ]
  },
  {
   "cell_type": "code",
   "execution_count": 2,
   "metadata": {},
   "outputs": [
    {
     "name": "stderr",
     "output_type": "stream",
     "text": [
      "  0%|          | 0/1 [00:00<?, ?it/s]"
     ]
    },
    {
     "name": "stdout",
     "output_type": "stream",
     "text": [
      "Evaluating\n"
     ]
    },
    {
     "name": "stderr",
     "output_type": "stream",
     "text": [
      "100%|██████████| 1/1 [00:00<00:00,  1.04it/s]"
     ]
    },
    {
     "name": "stdout",
     "output_type": "stream",
     "text": [
      "Image 0: Prediction [4]\n",
      "Image 1: Prediction [4]\n",
      "Image 2: Prediction [4]\n",
      "Image 3: Prediction [4]\n",
      "Image 4: Prediction [4]\n",
      "Image 5: Prediction [1]\n",
      "Image 6: Prediction [4]\n",
      "Image 7: Prediction [4]\n",
      "Image 8: Prediction [4]\n",
      "Image 9: Prediction [2]\n",
      "Image 10: Prediction [2]\n",
      "Image 11: Prediction [4]\n",
      "Image 12: Prediction [2]\n",
      "Image 13: Prediction [2]\n",
      "Image 14: Prediction [4]\n",
      "Image 15: Prediction [4]\n"
     ]
    },
    {
     "name": "stderr",
     "output_type": "stream",
     "text": [
      "\n"
     ]
    }
   ],
   "source": [
    "def load_model(checkpoint_path, model_class, device):\n",
    "    model = MainNet(proposalN, num_classes ,channels)\n",
    "    checkpoint = torch.load(checkpoint_path)\n",
    "    state_dict = checkpoint['model_state_dict']\n",
    "    # Remove the final layer's parameters\n",
    "    model.load_state_dict(state_dict)\n",
    "\n",
    "    model.to(device)\n",
    "    model.eval()\n",
    "    return model\n",
    "\n",
    "def create_testloader(data_dir, input_size, batch_size):\n",
    "    test_dataset = CompetitionDataset(input_size=input_size, root=data_dir, is_train=False)\n",
    "    test_loader = DataLoader(test_dataset, batch_size=batch_size, shuffle=False)\n",
    "    return test_loader\n",
    "\n",
    "def main():\n",
    "    # Set paths and parameters\n",
    "    data_dir = 'datasets/CompetitionData'\n",
    "    checkpoint_path = 'models/epoch5.pth'\n",
    "    input_size = 448  # Example input size\n",
    "    batch_size = 32\n",
    "    device = torch.device('cuda' if torch.cuda.is_available() else 'cpu')\n",
    "    epoch = 0  # Example epoch value, adjust as needed\n",
    "\n",
    "    # Load the trained model\n",
    "    model = load_model(checkpoint_path, MainNet, device)\n",
    "\n",
    "    # Create test DataLoader\n",
    "    testloader = create_testloader(data_dir, input_size, batch_size)\n",
    "\n",
    "    # Evaluate the model on test data\n",
    "    predictions = eval(model, testloader, epoch)\n",
    "\n",
    "    # Print or save the predictions\n",
    "    for i, pred in enumerate(predictions):\n",
    "        print(f'Image {i}: Prediction {pred}')\n",
    "    return predictions\n",
    "    \n",
    "\n",
    "if __name__ == '__main__':\n",
    "    a = main()\n"
   ]
  },
  {
   "cell_type": "code",
   "execution_count": null,
   "metadata": {},
   "outputs": [],
   "source": []
  },
  {
   "cell_type": "code",
   "execution_count": null,
   "metadata": {},
   "outputs": [],
   "source": []
  },
  {
   "cell_type": "code",
   "execution_count": null,
   "metadata": {},
   "outputs": [],
   "source": []
  },
  {
   "cell_type": "code",
   "execution_count": null,
   "metadata": {},
   "outputs": [],
   "source": []
  },
  {
   "cell_type": "code",
   "execution_count": null,
   "metadata": {},
   "outputs": [],
   "source": []
  },
  {
   "cell_type": "code",
   "execution_count": null,
   "metadata": {},
   "outputs": [],
   "source": []
  }
 ],
 "metadata": {
  "kernelspec": {
   "display_name": "model_2_env",
   "language": "python",
   "name": "python3"
  },
  "language_info": {
   "codemirror_mode": {
    "name": "ipython",
    "version": 3
   },
   "file_extension": ".py",
   "mimetype": "text/x-python",
   "name": "python",
   "nbconvert_exporter": "python",
   "pygments_lexer": "ipython3",
   "version": "3.7.12"
  }
 },
 "nbformat": 4,
 "nbformat_minor": 2
}
