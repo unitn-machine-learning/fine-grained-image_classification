{
 "cells": [
  {
   "cell_type": "code",
   "execution_count": 2,
   "metadata": {},
   "outputs": [],
   "source": [
    "import torch\n",
    "from torch.utils.data import DataLoader\n",
    "import os\n",
    "from tqdm import tqdm\n",
    "\n",
    "from networks.model import MainNet\n",
    "from datasets.dataset import CompetitionDataset\n",
    "import warnings\n",
    "warnings.filterwarnings('ignore')\n",
    "from config import proposalN, num_classes, channels\n",
    "from utils.second_eval import eval\n"
   ]
  },
  {
   "cell_type": "code",
   "execution_count": null,
   "metadata": {},
   "outputs": [],
   "source": []
  },
  {
   "cell_type": "code",
   "execution_count": 60,
   "metadata": {},
   "outputs": [],
   "source": [
    "def load_model(checkpoint_path, model_class, device):\n",
    "    model = MainNet(proposalN, num_classes ,channels)\n",
    "    checkpoint = torch.load(checkpoint_path)\n",
    "    state_dict = checkpoint['model_state_dict']\n",
    "    # Remove the final layer's parameters\n",
    "    model.load_state_dict(state_dict)\n",
    "\n",
    "    model.to(device)\n",
    "    model.eval()\n",
    "    return model\n",
    "\n",
    "def create_testloader(data_dir, input_size, batch_size):\n",
    "    test_dataset = CompetitionDataset(input_size=input_size, root=data_dir, is_train=True)\n",
    "    test_loader = DataLoader(test_dataset, batch_size=batch_size, shuffle=True)\n",
    "    return test_loader\n",
    "\n",
    "def main():\n",
    "    # Set paths and parameters\n",
    "    data_dir = 'datasets/CompetitionData'\n",
    "    checkpoint_path = 'models/epoch5.pth'\n",
    "    input_size = 448  # Example input size\n",
    "    batch_size = 32\n",
    "    device = torch.device('cuda' if torch.cuda.is_available() else 'cpu')\n",
    "    epoch = 0  # Example epoch value, adjust as needed\n",
    "\n",
    "    # Load the trained model\n",
    "    model = load_model(checkpoint_path, MainNet, device)\n",
    "\n",
    "    # Create test DataLoader\n",
    "    testloader = create_testloader(data_dir, input_size, batch_size)\n",
    "\n",
    "    # Evaluate the model on test data\n",
    "    predictions = eval(model, testloader, epoch)\n",
    "\n",
    "    # Print or save the predictions\n",
    "    for i, pred in enumerate(predictions):\n",
    "        print(f'Image {i}: Prediction {pred}')\n",
    "    return predictions\n",
    "    \n",
    "\n",
    "# if __name__ == '__main__':\n",
    "#     a = main()\n"
   ]
  },
  {
   "cell_type": "code",
   "execution_count": 61,
   "metadata": {},
   "outputs": [],
   "source": [
    "data_dir = 'datasets/CompetitionData'\n",
    "checkpoint_path = 'models/epoch5.pth'\n",
    "input_size = 448  # Example input size\n",
    "batch_size = 50\n",
    "device = torch.device('cuda' if torch.cuda.is_available() else 'cpu')\n",
    "epoch = 0  # Example epoch value, adjust as needed\n",
    "\n",
    "# Create test DataLoader\n",
    "testloader = create_testloader(data_dir, input_size, batch_size)"
   ]
  },
  {
   "cell_type": "code",
   "execution_count": 62,
   "metadata": {},
   "outputs": [],
   "source": [
    "it = testloader._get_iterator()\n"
   ]
  },
  {
   "cell_type": "code",
   "execution_count": 65,
   "metadata": {},
   "outputs": [
    {
     "data": {
      "text/plain": [
       "tensor([31, 37, 59, 68, 38,  2,  6, 99,  9, 68, 70, 83, 62, 84, 11, 33, 17, 64,\n",
       "        42,  2,  6, 78, 20, 66,  2, 81, 53, 95, 93, 53, 67, 49, 71, 30, 70, 85,\n",
       "        91, 43, 95, 52, 29, 81, 27, 81, 77, 62, 79, 98,  9, 78])"
      ]
     },
     "execution_count": 65,
     "metadata": {},
     "output_type": "execute_result"
    }
   ],
   "source": [
    "a, b = it._next_data()\n",
    "b\n"
   ]
  },
  {
   "cell_type": "code",
   "execution_count": 44,
   "metadata": {},
   "outputs": [
    {
     "data": {
      "text/plain": [
       "tensor([30, 30, 30, 30, 30])"
      ]
     },
     "execution_count": 44,
     "metadata": {},
     "output_type": "execute_result"
    }
   ],
   "source": []
  },
  {
   "cell_type": "code",
   "execution_count": 19,
   "metadata": {},
   "outputs": [],
   "source": [
    "import os \n",
    "\n",
    "all_class = os.listdir('datasets/CompetitionData/train')\n",
    "all_class.sort()"
   ]
  },
  {
   "cell_type": "code",
   "execution_count": 20,
   "metadata": {},
   "outputs": [],
   "source": [
    "with open('datasets/CompetitionData/labels.txt', 'w') as file:\n",
    "    i = 0\n",
    "    for item in all_class:\n",
    "        file.write(str(i) +' '+ str(int(item.split('_')[0])) + '\\n')\n",
    "        i+=1 "
   ]
  },
  {
   "cell_type": "code",
   "execution_count": 21,
   "metadata": {},
   "outputs": [],
   "source": [
    "label_txt_file = open('datasets/CompetitionData/labels.txt')"
   ]
  },
  {
   "cell_type": "code",
   "execution_count": 22,
   "metadata": {},
   "outputs": [],
   "source": [
    "class_dict = {}\n",
    "for line in label_txt_file:\n",
    "    class_dict[line.split(' ')[1][:-1]] = line.split(' ')[0]"
   ]
  },
  {
   "cell_type": "code",
   "execution_count": 24,
   "metadata": {},
   "outputs": [
    {
     "data": {
      "text/plain": [
       "'30'"
      ]
     },
     "execution_count": 24,
     "metadata": {},
     "output_type": "execute_result"
    }
   ],
   "source": [
    "class_dict['4698']"
   ]
  },
  {
   "cell_type": "code",
   "execution_count": null,
   "metadata": {},
   "outputs": [],
   "source": []
  },
  {
   "cell_type": "code",
   "execution_count": null,
   "metadata": {},
   "outputs": [],
   "source": []
  }
 ],
 "metadata": {
  "kernelspec": {
   "display_name": "model_2_env",
   "language": "python",
   "name": "python3"
  },
  "language_info": {
   "codemirror_mode": {
    "name": "ipython",
    "version": 3
   },
   "file_extension": ".py",
   "mimetype": "text/x-python",
   "name": "python",
   "nbconvert_exporter": "python",
   "pygments_lexer": "ipython3",
   "version": "3.7.16"
  }
 },
 "nbformat": 4,
 "nbformat_minor": 2
}
